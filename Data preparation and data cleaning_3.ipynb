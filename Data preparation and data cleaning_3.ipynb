{
 "cells": [
  {
   "cell_type": "markdown",
   "metadata": {},
   "source": [
    "# Data preparation and data cleaning"
   ]
  },
  {
   "cell_type": "code",
   "execution_count": 18,
   "metadata": {},
   "outputs": [],
   "source": [
    "import numpy as np\n",
    "import pandas as pd\n",
    "\n",
    "# Load new train and test datasets.\n",
    "train = pd.read_csv(\"train2.csv\", low_memory=False)\n",
    "test = pd.read_csv(\"test2.csv\", low_memory=False)"
   ]
  },
  {
   "cell_type": "code",
   "execution_count": 19,
   "metadata": {},
   "outputs": [
    {
     "name": "stdout",
     "output_type": "stream",
     "text": [
      "Train dataset \n",
      " PA_PQ_TAG_train[:10]: \n",
      " ['Green Channel', 'PQ with Account', 'PQ with Coapp', 'PQ with Dedupe', 'PQ with KYC', 'PQ with Neg dedupe', 'PQ with Ref dedupe', 'PQ_WITH_INCOME_1000K', 'PQ_WITH_INCOME_100K', 'PQ_WITH_INCOME_103K'] \n",
      " PA_PQ_TAG_train[-10:]: \n",
      " ['PQ_WITH_INCOME_91K', 'PQ_WITH_INCOME_92K', 'PQ_WITH_INCOME_93K', 'PQ_WITH_INCOME_94K', 'PQ_WITH_INCOME_95K', 'PQ_WITH_INCOME_96K', 'PQ_WITH_INCOME_97K', 'PQ_WITH_INCOME_98K', 'PQ_WITH_INCOME_99K', 'STP']\n",
      "\n",
      "Test dataset \n",
      " PA_PQ_TAG_test[:10]: \n",
      " ['Green Channel', 'PQ with Account', 'PQ with Coapp', 'PQ with Dedupe', 'PQ with KYC', 'PQ with Neg dedupe', 'PQ with Ref dedupe', 'PQ_WITH_INCOME_1000K', 'PQ_WITH_INCOME_100K', 'PQ_WITH_INCOME_104K'] \n",
      " PA_PQ_TAG_test[-10:]: \n",
      " ['PQ_WITH_INCOME_88K', 'PQ_WITH_INCOME_89K', 'PQ_WITH_INCOME_90K', 'PQ_WITH_INCOME_91K', 'PQ_WITH_INCOME_92K', 'PQ_WITH_INCOME_93K', 'PQ_WITH_INCOME_95K', 'PQ_WITH_INCOME_96K', 'PQ_WITH_INCOME_99K', 'STP']\n",
      "\n"
     ]
    }
   ],
   "source": [
    "# From checking the number of unique values of object columns, we know that\n",
    "# the variable \"PA_PQ_TAG\" has the second most unique object values in the datasets.\n",
    "# Show the unique values of PA_PQ_TAG in train/test datasets.\n",
    "\n",
    "PA_PQ_TAG_train = set(train[\"PA_PQ_TAG\"].dropna())\n",
    "PA_PQ_TAG_train = sorted(PA_PQ_TAG_train)\n",
    "print(\"Train dataset\", \"\\n\", \"PA_PQ_TAG_train[:10]:\", \"\\n\", PA_PQ_TAG_train[:10], \"\\n\", \"PA_PQ_TAG_train[-10:]:\", \"\\n\", PA_PQ_TAG_train[-10:])\n",
    "print()\n",
    "PA_PQ_TAG_test = set(test[\"PA_PQ_TAG\"].dropna())\n",
    "PA_PQ_TAG_test = sorted(PA_PQ_TAG_test)\n",
    "print(\"Test dataset\", \"\\n\", \"PA_PQ_TAG_test[:10]:\", \"\\n\", PA_PQ_TAG_test[:10], \"\\n\", \"PA_PQ_TAG_test[-10:]:\", \"\\n\", PA_PQ_TAG_test[-10:])\n",
    "print()"
   ]
  },
  {
   "cell_type": "markdown",
   "metadata": {},
   "source": [
    "In both train and test datasets, the variable \"PA_PQ_TAG\" has a number of values like \"PQ_WITH_INCOME_\\d+K\". Both sets have same values which are not \"PQ_WITH_INCOME_\\d+K\". Next, I'm going to replace all \"PQ_WITH_INCOME_\\d+K\" values with \"\\d+\" and other values with \"-999.0\", \"-998.0\", \"-997.0\", etc."
   ]
  },
  {
   "cell_type": "code",
   "execution_count": 20,
   "metadata": {},
   "outputs": [],
   "source": [
    "# To replace \"PQ_WITH_INCOME_\\d+K\" values with \"\\d+\". \n",
    "# To replace other values with \"-999.0\".\n",
    "# Output new train and test datasets to csv files.\n",
    "\n",
    "def replace_patag(dataframe):\n",
    "    \n",
    "    import re\n",
    "    \n",
    "    non_income_K = []\n",
    "    for i in range(0, len(dataframe[\"PA_PQ_TAG\"])):\n",
    "        match = re.search(r\"PQ_WITH_INCOME_\\d+K\", str(dataframe.loc[i, \"PA_PQ_TAG\"]))\n",
    "        if not match:\n",
    "            non_income_K.append(str(dataframe.loc[i, \"PA_PQ_TAG\"]))\n",
    "    non_income_K = sorted(list(set(non_income_K)))\n",
    "\n",
    "    PA_PQ_TAG = []\n",
    "    for i in range(0, len(dataframe[\"PA_PQ_TAG\"])):\n",
    "        match = re.search(r\"PQ_WITH_INCOME_\\d+K\", str(dataframe.loc[i, \"PA_PQ_TAG\"]))\n",
    "        if match:\n",
    "            d = re.findall(r\"\\d+\", dataframe.loc[i, \"PA_PQ_TAG\"])\n",
    "            PA_PQ_TAG.append(float(d[0]))\n",
    "        else:\n",
    "            for j in range(0, len(non_income_K)):\n",
    "                if str(dataframe.loc[i, \"PA_PQ_TAG\"]) == non_income_K[j]:\n",
    "                    PA_PQ_TAG.append(-999.0+j)\n",
    "\n",
    "    dataframe.loc[:, \"PA_PQ_TAG\"] = PA_PQ_TAG\n",
    "    \n",
    "replace_patag(train)\n",
    "train.to_csv(\"train3.csv\", index=None)\n",
    "replace_patag(test)\n",
    "test.to_csv(\"test3.csv\", index=None)"
   ]
  },
  {
   "cell_type": "markdown",
   "metadata": {},
   "source": [
    "Now, we can stop here and take a break."
   ]
  }
 ],
 "metadata": {
  "kernelspec": {
   "display_name": "Python 3",
   "language": "python",
   "name": "python3"
  },
  "language_info": {
   "codemirror_mode": {
    "name": "ipython",
    "version": 3
   },
   "file_extension": ".py",
   "mimetype": "text/x-python",
   "name": "python",
   "nbconvert_exporter": "python",
   "pygments_lexer": "ipython3",
   "version": "3.5.2"
  }
 },
 "nbformat": 4,
 "nbformat_minor": 2
}
