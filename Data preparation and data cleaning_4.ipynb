{
 "cells": [
  {
   "cell_type": "markdown",
   "metadata": {},
   "source": [
    "# Data preparation and data cleaning (4)"
   ]
  },
  {
   "cell_type": "code",
   "execution_count": 1,
   "metadata": {},
   "outputs": [],
   "source": [
    "import numpy as np\n",
    "import pandas as pd\n",
    "\n",
    "train = pd.read_csv(\"train3.csv\", low_memory=False)\n",
    "test = pd.read_csv(\"test3.csv\", low_memory=False)"
   ]
  },
  {
   "cell_type": "code",
   "execution_count": 2,
   "metadata": {
    "scrolled": false
   },
   "outputs": [
    {
     "name": "stdout",
     "output_type": "stream",
     "text": [
      "Train dataset\n",
      "[('ACT_TYPE', {'CSA', 'SA'}), ('CARD_AUTOMOBILE_MON_01', {'Y', 'N'}), ('CARD_ENTMNT_MON_01', {'Y', 'N'}), ('CARD_HOBBY_MON_01', {'Y', 'N'}), ('CARD_HOME_DECOR_MON_01', {'Y', 'N'}), ('CARD_HOTEL_MON_01', {'Y', 'N'}), ('CARD_JEWELLERY_MON_01', {'Y', 'N'}), ('CARD_MEDICAL_MON_01', {'Y', 'N'}), ('CARD_PRSNL_CARE_MON_01', {'Y', 'N'}), ('CARD_RESTAURANT_MON_01', {'Y', 'N'}), ('CARD_TRAVEL_MON_01', {'Y', 'N'}), ('CC_ACTIVE', {'Y', 'N'}), ('CC_HOLD', {'Y', 'N'}), ('CHANNEL_CLICK_DISP', {'DISP', 'NONE', 'CLICK'}), ('CREDIT_ACT', {nan, 'Y'}), ('DC_ACTIVE', {'Y', 'N'}), ('DC_HOLD', {'Y', 'N'}), ('DEBIT_ACT', {nan, 'Y'}), ('DESIGNATION_FINAL', {'MANAGER', 'TEACH/PROF/CONSULT', 'DEVEP/PROG/ANALYST/ASSO', 'OFFICER', 'EXECUTIVE', 'SUP/TECH/OPR', 'MISSING', 'ENGINEER', 'TOP_MANAG/DOC', 'OTHERS', 'REMAING'}), ('FINANCE_MON_01', {'Y', 'N'}), ('GENDER', {'M', nan, 'F'}), ('IMPS_CC_CATEGORY_MON_01', {'RETURN', 'OPERATION', 'TRANSFER', 'EDUCATION', 'NO_IMPS_TXN', 'TRAVEL', 'ADVANCE', 'CHILD_BIR', 'LOAN', 'HELP', 'EMI', 'JEWELLERY', 'WEDDING', 'MEDICAL', 'RENT', 'GAS', 'ELECTRICI', 'CC_PAYMENT', 'NOT_RELEVANT', 'BUILDER', 'PERSONAL'}), ('INMON_01KET_MON_01', {'Y', 'N'}), ('JOBS_MON_01', {'Y', 'N'}), ('LEGAL_ENTITY', {'OTHERS', 'INDIVIDUAL', 'ASSOCIATION', 'FIRM', 'NON_GOVERNMENTAL_ORG'}), ('LIFESTYLE_MON_01', {'Y', 'N'}), ('NEFT_CC_CATEGORY', {'RETURN', 'CHILD_BIR', 'TRANSFER', 'EDUCATION', 'JEWELLERY', 'TRAVEL', 'WEDDING', 'OPERATION', 'LOAN', 'NO_NEFT_TXN', 'EMI', 'ELECTRICI', 'ADVANCE', 'MEDICAL', 'RENT', 'GAS', 'HELP', 'NOT_RELEVANT', 'BUILDER', 'PERSONAL'}), ('NEFT_DC_CATEGORY', {'RETURN', 'OPERATION', 'TRANSFER', 'JEWELLERY', 'EDUCATION', 'TRAVEL', 'CHILD_BIR', 'WEDDING', 'LOAN', 'NO_NEFT_TXN', 'ELECTRICI', 'EMI', 'HELP', 'MEDICAL', 'RENT', 'GAS', 'CC_PAYMENT', 'NOT_RELEVANT', 'BUILDER', 'PERSONAL'}), ('RESPONDERS', {'Y', 'N'}), ('TOP14_CITY', {'Y', 'N'}), ('TOP9_CITY', {'Y', 'N'}), ('TOP_CORP_TAG', {'TOP_100', 'NONE', 'TOP_800'}), ('TPT_CC_CATEGORY_MON_01', {'RETURN', 'OPERATION', 'TRANSFER', 'EDUCATION', 'WEDDING', 'TRAVEL', 'CHILD_BIR', 'ADVANCE', 'NO_TPT_TXN', 'LOAN', 'EMI', 'HELP', 'ELECTRICI', 'GAS', 'RENT', 'MEDICAL', 'JEWELLERY', 'CC_PAYMENT', 'NOT_RELEVANT', 'BUILDER', 'PERSONAL'}), ('TPT_DC_CATEGORY_MON_01', {'RETURN', 'OPERATION', 'TRANSFER', 'EDUCATION', 'WEDDING', 'TRAVEL', 'CHILD_BIR', 'ADVANCE', 'NO_TPT_TXN', 'LOAN', 'EMI', 'HELP', 'ELECTRICI', 'MEDICAL', 'RENT', 'GAS', 'JEWELLERY', 'CC_PAYMENT', 'NOT_RELEVANT', 'BUILDER', 'PERSONAL'}), ('TRAVEL_MON_01', {'Y', 'N'})]\n",
      "\n",
      "Test dataset\n",
      "[('ACT_TYPE', {'CSA', 'SA'}), ('CARD_AUTOMOBILE_MON_01', {'Y', 'N'}), ('CARD_ENTMNT_MON_01', {'Y', 'N'}), ('CARD_HOBBY_MON_01', {'Y', 'N'}), ('CARD_HOME_DECOR_MON_01', {'Y', 'N'}), ('CARD_HOTEL_MON_01', {'Y', 'N'}), ('CARD_JEWELLERY_MON_01', {'Y', 'N'}), ('CARD_MEDICAL_MON_01', {'Y', 'N'}), ('CARD_PRSNL_CARE_MON_01', {'Y', 'N'}), ('CARD_RESTAURANT_MON_01', {'Y', 'N'}), ('CARD_TRAVEL_MON_01', {'Y', 'N'}), ('CC_ACTIVE', {'Y', 'N'}), ('CC_HOLD', {'Y', 'N'}), ('CHANNEL_CLICK_DISP', {'DISP', 'NONE', 'CLICK'}), ('CREDIT_ACT', {nan, 'Y'}), ('DC_ACTIVE', {'Y', 'N'}), ('DC_HOLD', {'Y', 'N'}), ('DEBIT_ACT', {nan, 'Y'}), ('DESIGNATION_FINAL', {'MANAGER', 'TEACH/PROF/CONSULT', 'DEVEP/PROG/ANALYST/ASSO', 'OFFICER', 'EXECUTIVE', 'SUP/TECH/OPR', 'MISSING', 'ENGINEER', 'TOP_MANAG/DOC', 'OTHERS', 'REMAING'}), ('FINANCE_MON_01', {'Y', 'N'}), ('GENDER', {'M', nan, 'F'}), ('IMPS_CC_CATEGORY_MON_01', {'RETURN', 'TRANSFER', 'EDUCATION', 'NO_IMPS_TXN', 'TRAVEL', 'ADVANCE', 'OPERATION', 'LOAN', 'HELP', 'EMI', 'WEDDING', 'ELECTRICI', 'MEDICAL', 'RENT', 'CHILD_BIR', 'GAS', 'CC_PAYMENT', 'NOT_RELEVANT', 'BUILDER', 'PERSONAL'}), ('INMON_01KET_MON_01', {'Y', 'N'}), ('JOBS_MON_01', {'Y', 'N'}), ('LEGAL_ENTITY', {'TRUSTS', 'PROPRIETERSHIP', 'INDIVIDUAL', 'ASSOCIATION', 'OTHERS', 'NON_GOVERNMENTAL_ORG'}), ('LIFESTYLE_MON_01', {'Y', 'N'}), ('NEFT_CC_CATEGORY', {'RETURN', 'CHILD_BIR', 'TRANSFER', 'EDUCATION', 'JEWELLERY', 'TRAVEL', 'OPERATION', 'ADVANCE', 'LOAN', 'NO_NEFT_TXN', 'EMI', 'ELECTRICI', 'HELP', 'MEDICAL', 'RENT', 'GAS', 'CC_PAYMENT', 'NOT_RELEVANT', 'BUILDER', 'PERSONAL'}), ('NEFT_DC_CATEGORY', {'OPERATION', 'TRANSFER', 'EDUCATION', 'JEWELLERY', 'TRAVEL', 'WEDDING', 'CHILD_BIR', 'LOAN', 'NO_NEFT_TXN', 'ELECTRICI', 'EMI', 'ADVANCE', 'GAS', 'RENT', 'MEDICAL', 'HELP', 'CC_PAYMENT', 'NOT_RELEVANT', 'BUILDER', 'PERSONAL'}), ('TOP14_CITY', {'Y', 'N'}), ('TOP9_CITY', {'Y', 'N'}), ('TOP_CORP_TAG', {'TOP_100', 'NONE', 'TOP_800'}), ('TPT_CC_CATEGORY_MON_01', {'RETURN', 'OPERATION', 'TRANSFER', 'EDUCATION', 'WEDDING', 'TRAVEL', 'ADVANCE', 'CHILD_BIR', 'NO_TPT_TXN', 'LOAN', 'EMI', 'HELP', 'ELECTRICI', 'MEDICAL', 'RENT', 'GAS', 'JEWELLERY', 'CC_PAYMENT', 'NOT_RELEVANT', 'BUILDER', 'PERSONAL'}), ('TPT_DC_CATEGORY_MON_01', {'RETURN', 'TRANSFER', 'EDUCATION', 'WEDDING', 'TRAVEL', 'ADVANCE', 'JEWELLERY', 'NO_TPT_TXN', 'LOAN', 'HELP', 'EMI', 'ELECTRICI', 'MEDICAL', 'RENT', 'CHILD_BIR', 'GAS', 'CC_PAYMENT', 'NOT_RELEVANT', 'BUILDER', 'PERSONAL'}), ('TRAVEL_MON_01', {'Y', 'N'})]\n"
     ]
    }
   ],
   "source": [
    "# Check the values in the remaining object columns of train and test datasets.\n",
    "\n",
    "def obj_vars(dataframe):\n",
    "    cols = list(dataframe)\n",
    "    obj_vars = []\n",
    "    for col in cols:\n",
    "        if dataframe[col].dtype == \"object\":\n",
    "            df = dataframe.loc[:, [col]]\n",
    "            df_array = df.values\n",
    "            uniq_vars = set(df_array[:, 0])\n",
    "            obj_vars.append((col, (uniq_vars)))\n",
    "    print(sorted(obj_vars))\n",
    "\n",
    "print(\"Train dataset\")\n",
    "obj_vars(train)\n",
    "print()\n",
    "print(\"Test dataset\")\n",
    "obj_vars(test)\n",
    "\n"
   ]
  },
  {
   "cell_type": "markdown",
   "metadata": {},
   "source": [
    "These rest object variables have 2 - 21 unique values. Many object variables have only \"N\" and \"Y\" values. Some variables have \"np.nan\" and \"Y\". Next, I'm going to replace \"N\" and \"np.nan\" with 0.0 and \"Y\" with 1.0, and to replace other values with 0.0, 1.0, 2.0, or, 3.0, etc."
   ]
  },
  {
   "cell_type": "code",
   "execution_count": 3,
   "metadata": {},
   "outputs": [],
   "source": [
    "# To transform the rest object columns to numerals.\n",
    "\n",
    "def replace_obj_num(dataframe):\n",
    "    cols = list(dataframe)\n",
    "    for col in cols:\n",
    "        if dataframe[col].dtype == \"object\":\n",
    "            df = dataframe.loc[:, [col]]\n",
    "            df.fillna(value=\"0.0\", inplace=True)\n",
    "            df_array = df.values\n",
    "            uniq_vars = sorted(list(set(df_array[:, 0])))\n",
    "            col_vars = []\n",
    "            for i in range(0, len(df[col])):\n",
    "                for j in range(0, len(uniq_vars)):\n",
    "                    if df[col][i] == uniq_vars[j]:\n",
    "                        col_vars.append(float(j))\n",
    "            dataframe.loc[:, [col]] = col_vars\n",
    "    \n",
    "replace_obj_num(train)\n",
    "train.to_csv(\"train4.csv\", index=None)\n",
    "replace_obj_num(test)\n",
    "test.to_csv(\"test4.csv\", index=None)"
   ]
  },
  {
   "cell_type": "markdown",
   "metadata": {},
   "source": [
    "Now we can stop here and take a break."
   ]
  }
 ],
 "metadata": {
  "kernelspec": {
   "display_name": "Python 3",
   "language": "python",
   "name": "python3"
  },
  "language_info": {
   "codemirror_mode": {
    "name": "ipython",
    "version": 3
   },
   "file_extension": ".py",
   "mimetype": "text/x-python",
   "name": "python",
   "nbconvert_exporter": "python",
   "pygments_lexer": "ipython3",
   "version": "3.5.2"
  }
 },
 "nbformat": 4,
 "nbformat_minor": 2
}
