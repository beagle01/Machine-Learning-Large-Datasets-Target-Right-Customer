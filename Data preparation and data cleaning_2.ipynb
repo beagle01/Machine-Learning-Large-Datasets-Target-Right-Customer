{
 "cells": [
  {
   "cell_type": "markdown",
   "metadata": {},
   "source": [
    "# Data preparation and data cleaning (2)"
   ]
  },
  {
   "cell_type": "code",
   "execution_count": 11,
   "metadata": {},
   "outputs": [],
   "source": [
    "import numpy as np\n",
    "import pandas as pd\n",
    "\n",
    "# Load new train and test datasets\n",
    "train = pd.read_csv(\"train1.csv\", low_memory=False)\n",
    "test = pd.read_csv(\"test1.csv\", low_memory=False)"
   ]
  },
  {
   "cell_type": "code",
   "execution_count": 12,
   "metadata": {},
   "outputs": [
    {
     "name": "stdout",
     "output_type": "stream",
     "text": [
      "Train dataset \n",
      " ZIP_CODE_FINAL_train[:10]: \n",
      " ['.', '0', '0.0', '1', '100059.0', '10161.0', '102109.0', '103001.0', '104102', '107001'] \n",
      " ZIP_CODE_FINAL_train[-15:]: \n",
      " ['960005', '960077', '966039', '986001.0', '989151.0', '992001.0', '99APO', 'F92 A07D', 'HA8 6TE', 'INDIA', 'L6X4E5', 'TN38024', 'X', 'ZZ', 'ZZZZZ']\n",
      "\n",
      "Test dataset \n",
      " ZIP_CODE_FINAL_test[:10]: \n",
      " ['.', '0', '0.0', '1', '100001', '100015', '100028.0', '102037.0', '110 00', '110.0'] \n",
      " ZIP_CODE_FINAL_test[-15:]: \n",
      " ['950001', '96285', '987810.0', '99 APO', '994640', 'APO', 'E', 'INDIA', 'M5R 1S8', 'NR46PQ', 'R3Y1V6', 'T2A6P1', 'TW119QT', 'X', 'ZZZZZ']\n",
      "\n"
     ]
    }
   ],
   "source": [
    "# From checking the number of unique values of object columns, we know that\n",
    "# the variable \"ZIP_CODE_FINAL\" has the most unique object values in the datasets.\n",
    "# Show the unique values of ZIP_CODE_FINAL in train/test datasets.\n",
    "\n",
    "ZIP_CODE_FINAL_train = set(train[\"ZIP_CODE_FINAL\"].dropna())\n",
    "ZIP_CODE_FINAL_train = sorted(ZIP_CODE_FINAL_train)\n",
    "print(\"Train dataset\", \"\\n\", \"ZIP_CODE_FINAL_train[:10]:\", \"\\n\", ZIP_CODE_FINAL_train[:10], \"\\n\", \"ZIP_CODE_FINAL_train[-15:]:\", \"\\n\", ZIP_CODE_FINAL_train[-15:])\n",
    "print()\n",
    "\n",
    "ZIP_CODE_FINAL_test = set(test[\"ZIP_CODE_FINAL\"].dropna())\n",
    "ZIP_CODE_FINAL_test = sorted(ZIP_CODE_FINAL_test)\n",
    "print(\"Test dataset\", \"\\n\", \"ZIP_CODE_FINAL_test[:10]:\", \"\\n\", ZIP_CODE_FINAL_test[:10], \"\\n\", \"ZIP_CODE_FINAL_test[-15:]:\", \"\\n\", ZIP_CODE_FINAL_test[-15:])\n",
    "print()\n",
    "\n",
    "# There is one value \".\".\n",
    "# There are some values containg characters."
   ]
  },
  {
   "cell_type": "markdown",
   "metadata": {},
   "source": [
    "In both train and test datasets, the variable \"ZIP_CODE_FINAL\" has a large amount of float-like values, a small number of values containing non-digit characters and space, and the value \".\".\n",
    "Next, I'm going to replace all values containing non-digit characters with \"-999.0\", but to keep all float-like values."
   ]
  },
  {
   "cell_type": "code",
   "execution_count": 13,
   "metadata": {},
   "outputs": [],
   "source": [
    "# To replace all values containing non-digit characters and space, and the value \".\" with \"-999.0\".\n",
    "# Output new train and test datasets to csv files.\n",
    "\n",
    "def replace_zip_999(dataframe):\n",
    "    import re\n",
    "\n",
    "    ZIP_CODE_FINAL = []\n",
    "    for i in range(0, len(dataframe[\"ZIP_CODE_FINAL\"])):\n",
    "        match = re.search(r\"[A-Za-z\\s-]+\", str(dataframe.loc[i, \"ZIP_CODE_FINAL\"]))\n",
    "        if match or dataframe.loc[i, \"ZIP_CODE_FINAL\"] == \".\":\n",
    "            ZIP_CODE_FINAL.append(-999.0)\n",
    "        else:\n",
    "            ZIP_CODE_FINAL.append(float(dataframe.loc[i, \"ZIP_CODE_FINAL\"]))\n",
    "\n",
    "    dataframe.loc[:, \"ZIP_CODE_FINAL\"] = ZIP_CODE_FINAL\n",
    "    \n",
    "replace_zip_999(train)\n",
    "train.to_csv(\"train2.csv\", index=None)\n",
    "replace_zip_999(test)\n",
    "test.to_csv(\"test2.csv\", index=None)"
   ]
  },
  {
   "cell_type": "markdown",
   "metadata": {},
   "source": [
    "Now, we can stop here and take a break."
   ]
  }
 ],
 "metadata": {
  "kernelspec": {
   "display_name": "Python 3",
   "language": "python",
   "name": "python3"
  },
  "language_info": {
   "codemirror_mode": {
    "name": "ipython",
    "version": 3
   },
   "file_extension": ".py",
   "mimetype": "text/x-python",
   "name": "python",
   "nbconvert_exporter": "python",
   "pygments_lexer": "ipython3",
   "version": "3.5.2"
  }
 },
 "nbformat": 4,
 "nbformat_minor": 2
}
